{
 "cells": [
  {
   "cell_type": "code",
   "execution_count": 22,
   "id": "60b1af5e-9636-481a-95b7-f597bfe37a88",
   "metadata": {},
   "outputs": [],
   "source": [
    "import pandas as pd\n",
    "\n",
    "\n",
    "from rdkit import Chem\n",
    "from rdkit.Chem import AllChem\n",
    "from rdkit import DataStructs\n",
    "\n",
    "import rdkit\n",
    "rdkit.rdBase.DisableLog('rdApp.warning')"
   ]
  },
  {
   "cell_type": "code",
   "execution_count": 34,
   "id": "fa895046-f5b4-49f5-91ad-d35fa03c2515",
   "metadata": {},
   "outputs": [],
   "source": [
    "def calculate_tanimoto_similarity(tup):\n",
    "    smiles1, smiles2 = tup\n",
    "    mol1 = Chem.MolFromSmiles(smiles1)\n",
    "    mol2 = Chem.MolFromSmiles(smiles2)\n",
    "    \n",
    "    fp1 = AllChem.GetMorganFingerprintAsBitVect(\n",
    "        mol1, radius=2\n",
    "    )\n",
    "    fp2 = AllChem.GetMorganFingerprintAsBitVect(\n",
    "        mol2, radius=2\n",
    "    )\n",
    "    \n",
    "    tanimoto = DataStructs.TanimotoSimilarity(fp1, fp2)\n",
    "    \n",
    "    return tanimoto"
   ]
  },
  {
   "cell_type": "code",
   "execution_count": 35,
   "id": "477c21e3-5ca0-49cd-8514-b7d0fdea1b56",
   "metadata": {},
   "outputs": [],
   "source": [
    "df = pd.read_csv('data/qed/train_pairs.txt', names=['pairs'])\n",
    "df['separated_pairs'] = df['pairs'].str.split(' ')\n",
    "df['tanimoto_similarity'] = df['separated_pairs'].apply(calculate_tanimoto_similarity)"
   ]
  },
  {
   "cell_type": "code",
   "execution_count": 37,
   "id": "9440f9ca-d7c0-48c1-b677-1e2992037eaa",
   "metadata": {},
   "outputs": [
    {
     "data": {
      "text/plain": [
       "count    87226.000000\n",
       "mean         0.444745\n",
       "std          0.045952\n",
       "min          0.400000\n",
       "25%          0.411765\n",
       "50%          0.430769\n",
       "75%          0.462963\n",
       "max          0.804878\n",
       "Name: tanimoto_similarity, dtype: float64"
      ]
     },
     "execution_count": 37,
     "metadata": {},
     "output_type": "execute_result"
    }
   ],
   "source": [
    "df['tanimoto_similarity'].describe()"
   ]
  },
  {
   "cell_type": "code",
   "execution_count": null,
   "id": "3a81e510-e3cb-4cae-b435-896812eea1f5",
   "metadata": {},
   "outputs": [],
   "source": []
  }
 ],
 "metadata": {
  "kernelspec": {
   "display_name": "Python 3 (ipykernel)",
   "language": "python",
   "name": "python3"
  },
  "language_info": {
   "codemirror_mode": {
    "name": "ipython",
    "version": 3
   },
   "file_extension": ".py",
   "mimetype": "text/x-python",
   "name": "python",
   "nbconvert_exporter": "python",
   "pygments_lexer": "ipython3",
   "version": "3.10.18"
  }
 },
 "nbformat": 4,
 "nbformat_minor": 5
}
